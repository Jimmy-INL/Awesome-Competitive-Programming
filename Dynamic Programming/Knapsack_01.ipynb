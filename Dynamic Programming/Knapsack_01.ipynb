{
  "nbformat": 4,
  "nbformat_minor": 0,
  "metadata": {
    "colab": {
      "name": "Knapsack_01.ipynb",
      "provenance": [],
      "collapsed_sections": []
    },
    "kernelspec": {
      "name": "python3",
      "display_name": "Python 3"
    }
  },
  "cells": [
    {
      "cell_type": "code",
      "metadata": {
        "id": "a3hYgaHPUkua"
      },
      "source": [
        "'''\n",
        "  Given a list of weights associated with their values, find the maximum total \n",
        "  value attained with its total weight <= given total weight \n",
        "\n",
        "  Time complexity = O(|weights|*totalWeight) \n",
        "\n",
        "  Parameters:\n",
        "  -----------\n",
        "    totalWeight: int\n",
        "                 Total weight that can be reached\n",
        "    weights    : list\n",
        "                 List of weights in ascending order\n",
        "    values     : list\n",
        "                 List of values associated with weights\n",
        "\n",
        "  Returns:\n",
        "  --------\n",
        "    Maximum total value: int\n",
        "\n",
        "  Examples:\n",
        "  ---------\n",
        "    >>> totalWeight = 7\n",
        "    >>> weights = [1, 3, 4, 5]\n",
        "    >>> values = [1, 4, 5, 7]\n",
        "    >>> print(Knapsack_01(totalWeight, weights, values))\n",
        "    9\n",
        "\n",
        "    The dynamic programming matrix looks like this:\n",
        "      [[0, 0, 0, 0, 0, 0, 0, 0], \n",
        "       [0, 1, 1, 1, 1, 1, 1, 1], \n",
        "       [0, 1, 1, 4, 5, 5, 5, 5], \n",
        "       [0, 1, 1, 4, 5, 6, 6, 9], \n",
        "       [0, 1, 1, 4, 5, 7, 8, 9]]\n",
        "    \n",
        "    The maximum total value is 9, which can be attained by weights 3 and 4.\n",
        "\n",
        "  References:\n",
        "    https://www.youtube.com/watch?v=8LusJS5-AGo\n",
        "'''\n",
        "\n",
        "def Knapsack_01(totalWeight, weights, values):\n",
        "  # Weights must be sorted in ascending order\n",
        "  dp = [[0 for i in range(totalWeight+1)] for i in range(len(weights)+1)]\n",
        "  count = 0 # Cumulative weight\n",
        "\n",
        "  for r in range(1, len(weights)+1):\n",
        "    count += weights[r-1]\n",
        "\n",
        "    for c in range(1, totalWeight+1):\n",
        "      if c < weights[r-1]:\n",
        "        dp[r][c] = dp[r-1][c]\n",
        "      elif weights[r-1] <= c <= count:\n",
        "        dp[r][c] = max(dp[r-1][c], values[r-1] + dp[r][c - weights[r-1]])\n",
        "      elif c > count: \n",
        "        # Every weight is only picked once, so there's no more value gained\n",
        "        dp[r][c] = dp[r][c-1]\n",
        "           \n",
        "  return dp[-1][-1]"
      ],
      "execution_count": null,
      "outputs": []
    }
  ]
}