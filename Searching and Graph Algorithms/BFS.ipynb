{
  "nbformat": 4,
  "nbformat_minor": 0,
  "metadata": {
    "colab": {
      "name": "BFS.ipynb",
      "provenance": [],
      "collapsed_sections": []
    },
    "kernelspec": {
      "name": "python3",
      "display_name": "Python 3"
    }
  },
  "cells": [
    {
      "cell_type": "code",
      "metadata": {
        "id": "a3hYgaHPUkua"
      },
      "source": [
        "'''\n",
        "  Function to find Breadth-First Search path from a starting node\n",
        "  Time complexity = O(V+E) for Adjacency List\n",
        "  Time complexity = O(V^2) for Adjacency Matrix\n",
        "\n",
        "  Parameters:\n",
        "  -----------\n",
        "    graph: defaultdict\n",
        "           Graph, each starting vertex as a key is a list of ending vertices\n",
        "    s    : integer, string\n",
        "           Starting vertex of the BFS path\n",
        "\n",
        "  Returns:\n",
        "  --------\n",
        "    path: list\n",
        "          BFS path, contains all nodes on the path\n",
        "\n",
        "  Examples:\n",
        "  ---------\n",
        "    >>> graph = {0: [1, 2], 1: [2], 2: [0, 3], 3: [3]}\n",
        "    >>> print(BFS(graph, 2))\n",
        "    [2, 0, 3, 1]\n",
        "'''\n",
        "\n",
        "def BFS(graph, s): \n",
        "  # Extract all existing nodes in the graph\n",
        "  AllNodes = set(graph.keys())\n",
        "  for values in graph.values():\n",
        "    for node in values:\n",
        "      AllNodes.add(node)\n",
        "  AllNodes = list(AllNodes)\n",
        "  \n",
        "  # Mark all the vertices as not visited \n",
        "  visited = [False] * (len(AllNodes)) \n",
        "  # Create a queue for BFS \n",
        "  queue = [] \n",
        "  # Mark the source node as visited and enqueue it \n",
        "  queue.append(s) \n",
        "  visited[AllNodes.index(s)] = True\n",
        "  # Create BFS path\n",
        "  path = []\n",
        "\n",
        "  while queue: \n",
        "    # Dequeue a vertex from queue and put into path \n",
        "    s = queue.pop(0) \n",
        "    path.append(s) \n",
        "    # Get all adjacent vertices of the dequeued vertex s. If a adjacent \n",
        "    # has not been visited, then mark it visited and enqueue it \n",
        "    for i in graph[s]:  \n",
        "      if visited[AllNodes.index(i)] == False:\n",
        "        queue.append(i) \n",
        "        visited[AllNodes.index(i)] = True\n",
        "\n",
        "  return path "
      ],
      "execution_count": null,
      "outputs": []
    }
  ]
}